{
  "nbformat": 4,
  "nbformat_minor": 0,
  "metadata": {
    "colab": {
      "provenance": []
    },
    "kernelspec": {
      "name": "python3",
      "display_name": "Python 3"
    },
    "language_info": {
      "name": "python"
    },
    "accelerator": "GPU",
    "gpuClass": "standard"
  },
  "cells": [
    {
      "cell_type": "code",
      "execution_count": null,
      "metadata": {
        "id": "jTwVmnn8zy8O"
      },
      "outputs": [],
      "source": [
        "import tensorflow as tf\n",
        "from tensorflow import keras\n",
        "from tensorflow.keras import layers\n",
        "\n",
        "import numpy as np"
      ]
    },
    {
      "cell_type": "code",
      "source": [
        "path = \"/content/drive/MyDrive/test\""
      ],
      "metadata": {
        "id": "nalLo-Xh0ZjG"
      },
      "execution_count": null,
      "outputs": []
    },
    {
      "cell_type": "code",
      "source": [
        "import os\n",
        "\n",
        "num_skipped = 0\n",
        "for folder_name in (\"Bed\", \"Chair\", \"Sofa\"):\n",
        "    folder_path = os.path.join(path, folder_name)\n",
        "    print('---', folder_path, '---')\n",
        "    for fname in os.listdir(folder_path):\n",
        "        fpath = os.path.join(folder_path, fname)\n",
        "        try:\n",
        "            fobj = open(fpath, \"rb\")\n",
        "            is_jfif = tf.compat.as_bytes(\"JFIF\") in fobj.peek(10)\n",
        "        finally:\n",
        "            fobj.close()\n",
        "\n",
        "        if not is_jfif:\n",
        "            num_skipped += 1\n",
        "            # Delete corrupted image\n",
        "            os.remove(fpath)\n",
        "\n",
        "print(\"Deleted %d images\" % num_skipped)"
      ],
      "metadata": {
        "colab": {
          "base_uri": "https://localhost:8080/"
        },
        "id": "r8p4IV040Ch9",
        "outputId": "77063282-8f51-4314-ce46-bd4b6730c599"
      },
      "execution_count": null,
      "outputs": [
        {
          "output_type": "stream",
          "name": "stdout",
          "text": [
            "--- /content/drive/MyDrive/test/Bed ---\n",
            "--- /content/drive/MyDrive/test/Chair ---\n",
            "--- /content/drive/MyDrive/test/Sofa ---\n",
            "Deleted 0 images\n"
          ]
        }
      ]
    },
    {
      "cell_type": "code",
      "source": [
        "image_size = (180, 180)\n",
        "batch_size = 32\n",
        "\n",
        "train_ds, val_ds = tf.keras.utils.image_dataset_from_directory(\n",
        "    path,\n",
        "    validation_split=0.2,\n",
        "    subset=\"both\",\n",
        "    seed=1337,\n",
        "    label_mode = \"categorical\",\n",
        "    image_size=image_size,\n",
        "    batch_size=batch_size,\n",
        ")"
      ],
      "metadata": {
        "colab": {
          "base_uri": "https://localhost:8080/"
        },
        "id": "EcU5EN3u0nr7",
        "outputId": "d0fc672c-61dc-4859-be05-77d278a46529"
      },
      "execution_count": null,
      "outputs": [
        {
          "output_type": "stream",
          "name": "stdout",
          "text": [
            "Found 300 files belonging to 3 classes.\n",
            "Using 240 files for training.\n",
            "Using 60 files for validation.\n"
          ]
        }
      ]
    },
    {
      "cell_type": "code",
      "source": [
        "'''\n",
        "import matplotlib.pyplot as plt\n",
        "\n",
        "plt.figure(figsize=(10, 10))\n",
        "for images, labels in train_ds.take(1):\n",
        "    for i in range(9):\n",
        "        ax = plt.subplot(3, 3, i + 1)\n",
        "        plt.imshow(images[i].numpy().astype(\"uint8\"))\n",
        "        plt.title(labels[i])\n",
        "        plt.axis(\"off\")\n",
        "'''\n",
        "\n",
        "print('--')"
      ],
      "metadata": {
        "colab": {
          "base_uri": "https://localhost:8080/"
        },
        "id": "bEHsn17M0wro",
        "outputId": "1f381699-4ee6-47bd-ded1-1ab5cf1b7051"
      },
      "execution_count": null,
      "outputs": [
        {
          "output_type": "stream",
          "name": "stdout",
          "text": [
            "--\n"
          ]
        }
      ]
    },
    {
      "cell_type": "code",
      "source": [
        "data_augmentation = keras.Sequential(\n",
        "    [\n",
        "        layers.RandomFlip(\"horizontal\"),\n",
        "        layers.RandomRotation(0.1),\n",
        "    ]\n",
        ")"
      ],
      "metadata": {
        "id": "GxZhY2tk00E7"
      },
      "execution_count": null,
      "outputs": []
    },
    {
      "cell_type": "code",
      "source": [
        "augmented_train_ds = train_ds.map(\n",
        "    lambda x, y: (data_augmentation(x, training=True), y))"
      ],
      "metadata": {
        "id": "vhu9J_sA07LH"
      },
      "execution_count": null,
      "outputs": []
    },
    {
      "cell_type": "code",
      "source": [
        "# Apply `data_augmentation` to the training images.\n",
        "train_ds = train_ds.map(\n",
        "    lambda img, label: (data_augmentation(img), label),\n",
        "    num_parallel_calls=tf.data.AUTOTUNE,\n",
        ")\n",
        "# Prefetching samples in GPU memory helps maximize GPU utilization.\n",
        "train_ds = train_ds.prefetch(tf.data.AUTOTUNE)\n",
        "val_ds = val_ds.prefetch(tf.data.AUTOTUNE)"
      ],
      "metadata": {
        "id": "-kKFzL0D1EO3"
      },
      "execution_count": null,
      "outputs": []
    },
    {
      "cell_type": "code",
      "source": [
        "model = keras.Sequential([\n",
        "            \n",
        "    layers.Conv2D(filters=32, kernel_size=(3, 3), input_shape = (180, 180, 3), activation='relu'),\n",
        "    layers.MaxPooling2D(pool_size=(2, 2)),\n",
        "\n",
        "    layers.Conv2D(filters=32, kernel_size=(3, 3), activation='relu'),\n",
        "    layers.MaxPooling2D(pool_size=(2, 2)),\n",
        "    layers.Dropout(0.25),\n",
        "\n",
        "    layers.Conv2D(filters=64,kernel_size=(3, 3), activation='relu'),\n",
        "    layers.MaxPooling2D(pool_size=(2, 2)),\n",
        "    layers.Dropout(0.25),\n",
        "\n",
        "    layers.Flatten(),\n",
        "    layers.Dense(128, activation='relu'),\n",
        "    layers.Dropout(0.25),\n",
        "    layers.Dense(3, activation='softmax')\n",
        "])"
      ],
      "metadata": {
        "id": "r0jejs9CfUpy"
      },
      "execution_count": null,
      "outputs": []
    },
    {
      "cell_type": "code",
      "source": [
        "epochs = 50\n",
        "\n",
        "callbacks = [\n",
        "    keras.callbacks.ModelCheckpoint(\"save_at_{epoch}.h5\", \n",
        "                                    \"val_loss\", \n",
        "                                    save_best_only=True),\n",
        "]\n",
        "\n",
        "model.compile(\n",
        "    optimizer=\"adam\",\n",
        "    loss=\"categorical_crossentropy\",\n",
        "    metrics=[\"accuracy\"],\n",
        ")\n",
        "\n",
        "model.fit(\n",
        "    train_ds,\n",
        "    epochs=epochs,\n",
        "    callbacks=callbacks,\n",
        "    validation_data=val_ds,\n",
        ")"
      ],
      "metadata": {
        "colab": {
          "base_uri": "https://localhost:8080/"
        },
        "id": "FM5F6CPj1aQb",
        "outputId": "c6808145-3326-4850-f9ee-2ca308fdb6ef"
      },
      "execution_count": null,
      "outputs": [
        {
          "output_type": "stream",
          "name": "stdout",
          "text": [
            "Epoch 1/50\n",
            "8/8 [==============================] - 23s 491ms/step - loss: 331.3553 - accuracy: 0.3417 - val_loss: 12.2021 - val_accuracy: 0.3167\n",
            "Epoch 2/50\n",
            "8/8 [==============================] - 6s 224ms/step - loss: 16.0636 - accuracy: 0.3625 - val_loss: 1.9411 - val_accuracy: 0.3167\n",
            "Epoch 3/50\n",
            "8/8 [==============================] - 4s 218ms/step - loss: 4.4023 - accuracy: 0.4125 - val_loss: 1.0051 - val_accuracy: 0.3500\n",
            "Epoch 4/50\n",
            "8/8 [==============================] - 6s 456ms/step - loss: 1.8586 - accuracy: 0.3917 - val_loss: 1.4379 - val_accuracy: 0.3000\n",
            "Epoch 5/50\n",
            "8/8 [==============================] - 4s 203ms/step - loss: 1.1614 - accuracy: 0.3375 - val_loss: 1.2361 - val_accuracy: 0.3500\n",
            "Epoch 6/50\n",
            "8/8 [==============================] - 4s 214ms/step - loss: 0.9494 - accuracy: 0.5542 - val_loss: 1.0693 - val_accuracy: 0.4333\n",
            "Epoch 7/50\n",
            "8/8 [==============================] - 6s 223ms/step - loss: 0.9018 - accuracy: 0.5292 - val_loss: 0.9149 - val_accuracy: 0.5167\n",
            "Epoch 8/50\n",
            "8/8 [==============================] - 5s 278ms/step - loss: 0.8555 - accuracy: 0.5833 - val_loss: 1.0020 - val_accuracy: 0.4667\n",
            "Epoch 9/50\n",
            "8/8 [==============================] - 7s 507ms/step - loss: 0.6953 - accuracy: 0.6917 - val_loss: 0.7393 - val_accuracy: 0.5333\n",
            "Epoch 10/50\n",
            "8/8 [==============================] - 4s 215ms/step - loss: 0.6481 - accuracy: 0.7500 - val_loss: 0.6813 - val_accuracy: 0.6000\n",
            "Epoch 11/50\n",
            "8/8 [==============================] - 5s 270ms/step - loss: 0.6485 - accuracy: 0.7458 - val_loss: 0.5816 - val_accuracy: 0.6667\n",
            "Epoch 12/50\n",
            "8/8 [==============================] - 4s 215ms/step - loss: 0.6003 - accuracy: 0.7833 - val_loss: 0.5807 - val_accuracy: 0.7667\n",
            "Epoch 13/50\n",
            "8/8 [==============================] - 6s 267ms/step - loss: 0.5021 - accuracy: 0.7833 - val_loss: 0.5555 - val_accuracy: 0.7333\n",
            "Epoch 14/50\n",
            "8/8 [==============================] - 4s 210ms/step - loss: 0.4407 - accuracy: 0.8083 - val_loss: 0.6796 - val_accuracy: 0.6333\n",
            "Epoch 15/50\n",
            "8/8 [==============================] - 5s 268ms/step - loss: 0.4592 - accuracy: 0.8333 - val_loss: 0.5637 - val_accuracy: 0.7167\n",
            "Epoch 16/50\n",
            "8/8 [==============================] - 5s 220ms/step - loss: 0.4494 - accuracy: 0.8458 - val_loss: 0.5772 - val_accuracy: 0.7167\n",
            "Epoch 17/50\n",
            "8/8 [==============================] - 6s 322ms/step - loss: 0.3561 - accuracy: 0.8250 - val_loss: 0.5694 - val_accuracy: 0.7500\n",
            "Epoch 18/50\n",
            "8/8 [==============================] - 4s 214ms/step - loss: 0.4144 - accuracy: 0.8250 - val_loss: 0.5129 - val_accuracy: 0.7333\n",
            "Epoch 19/50\n",
            "8/8 [==============================] - 6s 229ms/step - loss: 0.4123 - accuracy: 0.8250 - val_loss: 0.6606 - val_accuracy: 0.6833\n",
            "Epoch 20/50\n",
            "8/8 [==============================] - 4s 213ms/step - loss: 0.3702 - accuracy: 0.8500 - val_loss: 0.5186 - val_accuracy: 0.7500\n",
            "Epoch 21/50\n",
            "8/8 [==============================] - 5s 215ms/step - loss: 0.3620 - accuracy: 0.8583 - val_loss: 0.4400 - val_accuracy: 0.7500\n",
            "Epoch 22/50\n",
            "8/8 [==============================] - 4s 217ms/step - loss: 0.2948 - accuracy: 0.9042 - val_loss: 0.5530 - val_accuracy: 0.7833\n",
            "Epoch 23/50\n",
            "8/8 [==============================] - 6s 348ms/step - loss: 0.3364 - accuracy: 0.8583 - val_loss: 0.5145 - val_accuracy: 0.8000\n",
            "Epoch 24/50\n",
            "8/8 [==============================] - 4s 205ms/step - loss: 0.3217 - accuracy: 0.8708 - val_loss: 0.4997 - val_accuracy: 0.8000\n",
            "Epoch 25/50\n",
            "8/8 [==============================] - 4s 204ms/step - loss: 0.2516 - accuracy: 0.9042 - val_loss: 0.5644 - val_accuracy: 0.7500\n",
            "Epoch 26/50\n",
            "8/8 [==============================] - 6s 214ms/step - loss: 0.3352 - accuracy: 0.8750 - val_loss: 0.4813 - val_accuracy: 0.8000\n",
            "Epoch 27/50\n",
            "8/8 [==============================] - 4s 221ms/step - loss: 0.3341 - accuracy: 0.8833 - val_loss: 0.4794 - val_accuracy: 0.7333\n",
            "Epoch 28/50\n",
            "8/8 [==============================] - 5s 310ms/step - loss: 0.2988 - accuracy: 0.8625 - val_loss: 0.4050 - val_accuracy: 0.8000\n",
            "Epoch 29/50\n",
            "8/8 [==============================] - 4s 212ms/step - loss: 0.2953 - accuracy: 0.8833 - val_loss: 0.4725 - val_accuracy: 0.7667\n",
            "Epoch 30/50\n",
            "8/8 [==============================] - 6s 272ms/step - loss: 0.3011 - accuracy: 0.8958 - val_loss: 0.4754 - val_accuracy: 0.7167\n",
            "Epoch 31/50\n",
            "8/8 [==============================] - 5s 275ms/step - loss: 0.3502 - accuracy: 0.8542 - val_loss: 0.3954 - val_accuracy: 0.8500\n",
            "Epoch 32/50\n",
            "8/8 [==============================] - 4s 224ms/step - loss: 0.2208 - accuracy: 0.9250 - val_loss: 0.3950 - val_accuracy: 0.8167\n",
            "Epoch 33/50\n",
            "8/8 [==============================] - 7s 492ms/step - loss: 0.2684 - accuracy: 0.9125 - val_loss: 0.4642 - val_accuracy: 0.8167\n",
            "Epoch 34/50\n",
            "8/8 [==============================] - 4s 201ms/step - loss: 0.2773 - accuracy: 0.9083 - val_loss: 0.4096 - val_accuracy: 0.7833\n",
            "Epoch 35/50\n",
            "8/8 [==============================] - 4s 225ms/step - loss: 0.2279 - accuracy: 0.9083 - val_loss: 0.3817 - val_accuracy: 0.7833\n",
            "Epoch 36/50\n",
            "8/8 [==============================] - 6s 208ms/step - loss: 0.2102 - accuracy: 0.9125 - val_loss: 0.4996 - val_accuracy: 0.7833\n",
            "Epoch 37/50\n",
            "8/8 [==============================] - 6s 504ms/step - loss: 0.2161 - accuracy: 0.9375 - val_loss: 0.3795 - val_accuracy: 0.8833\n",
            "Epoch 38/50\n",
            "8/8 [==============================] - 5s 232ms/step - loss: 0.2520 - accuracy: 0.8833 - val_loss: 0.3790 - val_accuracy: 0.8167\n",
            "Epoch 39/50\n",
            "8/8 [==============================] - 4s 211ms/step - loss: 0.2238 - accuracy: 0.9250 - val_loss: 0.3170 - val_accuracy: 0.7833\n",
            "Epoch 40/50\n",
            "8/8 [==============================] - 6s 215ms/step - loss: 0.2142 - accuracy: 0.9083 - val_loss: 0.3016 - val_accuracy: 0.8833\n",
            "Epoch 41/50\n",
            "8/8 [==============================] - 4s 220ms/step - loss: 0.2062 - accuracy: 0.9250 - val_loss: 0.3806 - val_accuracy: 0.8667\n",
            "Epoch 42/50\n",
            "8/8 [==============================] - 6s 349ms/step - loss: 0.2500 - accuracy: 0.8958 - val_loss: 0.4322 - val_accuracy: 0.7833\n",
            "Epoch 43/50\n",
            "8/8 [==============================] - 4s 212ms/step - loss: 0.2404 - accuracy: 0.9083 - val_loss: 0.2819 - val_accuracy: 0.8667\n",
            "Epoch 44/50\n",
            "8/8 [==============================] - 4s 212ms/step - loss: 0.2286 - accuracy: 0.8958 - val_loss: 0.3148 - val_accuracy: 0.8833\n",
            "Epoch 45/50\n",
            "8/8 [==============================] - 6s 212ms/step - loss: 0.1710 - accuracy: 0.9417 - val_loss: 0.3860 - val_accuracy: 0.8500\n",
            "Epoch 46/50\n",
            "8/8 [==============================] - 6s 447ms/step - loss: 0.2549 - accuracy: 0.9292 - val_loss: 0.5927 - val_accuracy: 0.7667\n",
            "Epoch 47/50\n",
            "8/8 [==============================] - 4s 213ms/step - loss: 0.1861 - accuracy: 0.9292 - val_loss: 0.4244 - val_accuracy: 0.8167\n",
            "Epoch 48/50\n",
            "8/8 [==============================] - 7s 414ms/step - loss: 0.2236 - accuracy: 0.9125 - val_loss: 0.3656 - val_accuracy: 0.8500\n",
            "Epoch 49/50\n",
            "8/8 [==============================] - 4s 204ms/step - loss: 0.2631 - accuracy: 0.9042 - val_loss: 0.4433 - val_accuracy: 0.8333\n",
            "Epoch 50/50\n",
            "8/8 [==============================] - 5s 336ms/step - loss: 0.2299 - accuracy: 0.9208 - val_loss: 0.3685 - val_accuracy: 0.8667\n"
          ]
        },
        {
          "output_type": "execute_result",
          "data": {
            "text/plain": [
              "<keras.callbacks.History at 0x7f76674e7b20>"
            ]
          },
          "metadata": {},
          "execution_count": 8
        }
      ]
    },
    {
      "cell_type": "code",
      "source": [
        "loaded_model = tf.keras.models.load_model('/content/save_at_24.h5')"
      ],
      "metadata": {
        "id": "brS_xKVoeIWV"
      },
      "execution_count": null,
      "outputs": []
    },
    {
      "cell_type": "code",
      "source": [
        "!pip install np_utils"
      ],
      "metadata": {
        "colab": {
          "base_uri": "https://localhost:8080/"
        },
        "id": "Vu4HDwmX3-vS",
        "outputId": "82f05f17-d38c-4e2e-c10d-165d77d04f98"
      },
      "execution_count": null,
      "outputs": [
        {
          "output_type": "stream",
          "name": "stdout",
          "text": [
            "Looking in indexes: https://pypi.org/simple, https://us-python.pkg.dev/colab-wheels/public/simple/\n",
            "Requirement already satisfied: np_utils in /usr/local/lib/python3.8/dist-packages (0.6.0)\n",
            "Requirement already satisfied: numpy>=1.0 in /usr/local/lib/python3.8/dist-packages (from np_utils) (1.22.4)\n"
          ]
        }
      ]
    },
    {
      "cell_type": "code",
      "source": [
        "def classify(path):\n",
        "  image_size = (180, 180)\n",
        "\n",
        "  img = keras.preprocessing.image.load_img(\n",
        "      path, target_size=image_size\n",
        "  )\n",
        "  img_array = keras.preprocessing.image.img_to_array(img)\n",
        "  img_array = tf.expand_dims(img_array, 0)  # create batch axis\n",
        "\n",
        "  classes = {0: 'Bed', 1: 'Chair', 2: 'Sofa'}\n",
        "  prediction = classes[np.argmax(loaded_model.predict(img_array))]\n",
        "\n",
        "  return prediction"
      ],
      "metadata": {
        "id": "8N3bkmvx28r2"
      },
      "execution_count": null,
      "outputs": []
    },
    {
      "cell_type": "code",
      "source": [
        "classify(\"/content/drive/MyDrive/test/Bed/ALBI BED.jpg\")"
      ],
      "metadata": {
        "colab": {
          "base_uri": "https://localhost:8080/",
          "height": 53
        },
        "id": "h-5iIkZS7-uD",
        "outputId": "65cfa7f1-2463-4413-af21-52aed399fb4c"
      },
      "execution_count": null,
      "outputs": [
        {
          "output_type": "stream",
          "name": "stdout",
          "text": [
            "1/1 [==============================] - 0s 22ms/step\n"
          ]
        },
        {
          "output_type": "execute_result",
          "data": {
            "text/plain": [
              "'Bed'"
            ],
            "application/vnd.google.colaboratory.intrinsic+json": {
              "type": "string"
            }
          },
          "metadata": {},
          "execution_count": 21
        }
      ]
    },
    {
      "cell_type": "code",
      "source": [],
      "metadata": {
        "id": "GeqdYVIP8DYc"
      },
      "execution_count": null,
      "outputs": []
    }
  ]
}